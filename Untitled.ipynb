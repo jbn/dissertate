{
 "cells": [
  {
   "cell_type": "markdown",
   "metadata": {},
   "source": [
    "- All bibliography files are in `.bib` files\n",
    "- You can export a flattened bibliography\n",
    "- You can namespace a bilbiography by directory paths\n",
    "- You can check for probable duplicates (simplify)\n",
    "- You can add a link to the file (with link checking)\n",
    "    - `/file`\n",
    "    - `/realtive'\n",
    "- You can search and compile searching"
   ]
  },
  {
   "cell_type": "code",
   "execution_count": 1,
   "metadata": {},
   "outputs": [
    {
     "data": {
      "text/plain": [
       "[{'ENTRYTYPE': 'article',\n",
       "  'ID': 'Cesar2013',\n",
       "  'abstract': 'This is an abstract. This line should be long enough to test\\nmultilines...',\n",
       "  'author': 'Jean César',\n",
       "  'comments': 'A comment',\n",
       "  'journal': 'Nice Journal',\n",
       "  'keyword': 'keyword1, keyword2',\n",
       "  'month': 'jan',\n",
       "  'pages': '12--23',\n",
       "  'title': 'An amazing title',\n",
       "  'volume': '12',\n",
       "  'year': '2013'}]"
      ]
     },
     "execution_count": 1,
     "metadata": {},
     "output_type": "execute_result"
    }
   ],
   "source": [
    "import os\n",
    "from dissertate.bibliography import Bibliography\n",
    "\n",
    "bib = Bibliography(os.getcwd())\n",
    "bib.root_dir\n",
    "bib.all_entries"
   ]
  },
  {
   "cell_type": "code",
   "execution_count": 2,
   "metadata": {},
   "outputs": [
    {
     "data": {
      "text/plain": [
       "[{'ENTRYTYPE': 'article',\n",
       "  'ID': 'Cesar2013',\n",
       "  'abstract': 'This is an abstract. This line should be long enough to test\\nmultilines...',\n",
       "  'author': 'Jean César',\n",
       "  'bib_path': '/Users/jbn/Dissertation/Supplementary/Dissertate/bibtex.bib',\n",
       "  'comments': 'A comment',\n",
       "  'journal': 'Nice Journal',\n",
       "  'keyword': 'keyword1, keyword2',\n",
       "  'month': 'jan',\n",
       "  'pages': '12--23',\n",
       "  'title': 'An amazing title',\n",
       "  'volume': '12',\n",
       "  'year': '2013'}]"
      ]
     },
     "execution_count": 2,
     "metadata": {},
     "output_type": "execute_result"
    }
   ],
   "source": [
    "list(bib.simple_search(\"ID\", \"Cesar2013\"))"
   ]
  },
  {
   "cell_type": "code",
   "execution_count": null,
   "metadata": {
    "collapsed": true
   },
   "outputs": [],
   "source": []
  },
  {
   "cell_type": "code",
   "execution_count": null,
   "metadata": {
    "collapsed": true
   },
   "outputs": [],
   "source": []
  }
 ],
 "metadata": {
  "kernelspec": {
   "display_name": "Python 3",
   "language": "python",
   "name": "python3"
  },
  "language_info": {
   "codemirror_mode": {
    "name": "ipython",
    "version": 3
   },
   "file_extension": ".py",
   "mimetype": "text/x-python",
   "name": "python",
   "nbconvert_exporter": "python",
   "pygments_lexer": "ipython3",
   "version": "3.5.2"
  }
 },
 "nbformat": 4,
 "nbformat_minor": 1
}
